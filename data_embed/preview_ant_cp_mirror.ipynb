{
 "cells": [
  {
   "cell_type": "markdown",
   "id": "814d3ebf",
   "metadata": {},
   "source": [
    "\n",
    "# Ant Face Copy–Paste — Writer Mirror Preview\n",
    "\n",
    "Run `write_data_embed_cp.py` first to generate:\n",
    "- `data_embed_pt/` (original)\n",
    "- `data_embed_pt_cp/` (semantic CP mirror)\n",
    "\n",
    "This notebook filters to `category == \"ant\"`, finds targets **without a face** in original,\n",
    "and shows **before/after** from the mirror.\n"
   ]
  },
  {
   "cell_type": "code",
   "execution_count": 1,
   "id": "b3140e91",
   "metadata": {},
   "outputs": [],
   "source": [
    "\n",
    "import os, torch, numpy as np\n",
    "import matplotlib.pyplot as plt\n",
    "from pathlib import Path\n",
    "\n",
    "ORIG = Path(\"data_embed_pt\")\n",
    "MIRR = Path(\"data_embed_pt_cp\")\n",
    "\n",
    "def load_pt(p):\n",
    "    d = torch.load(p, map_location=\"cpu\")\n",
    "    raw = d[\"img_raw\"]\n",
    "    dis = d[\"edis_raw\"]\n",
    "    cat = d.get(\"category\", \"unknown\")\n",
    "    return raw, dis, cat, d\n"
   ]
  },
  {
   "cell_type": "code",
   "execution_count": 2,
   "id": "fa29ed67",
   "metadata": {},
   "outputs": [
    {
     "name": "stdout",
     "output_type": "stream",
     "text": [
      "ant pairs: 0\n"
     ]
    }
   ],
   "source": [
    "\n",
    "SPLIT = \"train\"  # 'train' / 'valid' / 'test'\n",
    "orig_dir = ORIG / SPLIT\n",
    "mirr_dir = MIRR / SPLIT\n",
    "\n",
    "files = sorted(f for f in orig_dir.glob(\"*.pt\"))\n",
    "pairs = []\n",
    "for f in files:\n",
    "    raw, dis, cat, d = load_pt(f)\n",
    "    if cat != \"ant\":\n",
    "        continue\n",
    "    mirr = mirr_dir / f.name\n",
    "    if not mirr.exists():\n",
    "        continue\n",
    "    raw_m, dis_m, cat_m, dm = load_pt(mirr)\n",
    "    pairs.append((f, raw, dis, d, mirr, raw_m, dis_m, dm))\n",
    "\n",
    "print(\"ant pairs:\", len(pairs))\n"
   ]
  },
  {
   "cell_type": "code",
   "execution_count": 3,
   "id": "0fe18c13",
   "metadata": {},
   "outputs": [],
   "source": [
    "\n",
    "AREA_MIN, AREA_MAX, HEAD_BAND_FRAC = 15, 800, 0.35\n",
    "\n",
    "def connected_components(mask_np):\n",
    "    H, W = mask_np.shape\n",
    "    labels = np.zeros((H, W), dtype=np.int32)\n",
    "    visited = np.zeros_like(mask_np, dtype=bool)\n",
    "    sizes = []\n",
    "    label = 0\n",
    "    for y in range(H):\n",
    "        for x in range(W):\n",
    "            if mask_np[y, x] and not visited[y, x]:\n",
    "                label += 1\n",
    "                stack = [(y, x)]\n",
    "                visited[y, x] = True\n",
    "                labels[y, x] = label\n",
    "                sz = 1\n",
    "                while stack:\n",
    "                    cy, cx = stack.pop()\n",
    "                    for ny, nx in ((cy-1,cx),(cy+1,cx),(cy,cx-1),(cy,cx+1)):\n",
    "                        if 0 <= ny < H and 0 <= nx < W and mask_np[ny, nx] and not visited[ny, nx]:\n",
    "                            visited[ny, nx] = True\n",
    "                            labels[ny, nx] = label\n",
    "                            stack.append((ny, nx))\n",
    "                            sz += 1\n",
    "                sizes.append(sz)\n",
    "    return labels, sizes\n",
    "\n",
    "def bbox_of_label(labels, L):\n",
    "    ys, xs = np.where(labels==L)\n",
    "    if xs.size==0: return (0,0,labels.shape[1]-1, labels.shape[0]-1)\n",
    "    return int(xs.min()), int(ys.min()), int(xs.max()), int(ys.max())\n",
    "\n",
    "def largest_component_mask(mask_np):\n",
    "    lab, sizes = connected_components(mask_np)\n",
    "    if not sizes: return np.zeros_like(mask_np, dtype=np.uint8), lab, sizes, 0\n",
    "    L = int(np.argmax(sizes)+1)\n",
    "    return (lab==L).astype(np.uint8), lab, sizes, L\n",
    "\n",
    "def has_face(raw):\n",
    "    raw01 = raw if raw.dim()==2 else raw.squeeze(0)\n",
    "    raw01 = raw01.to(torch.float32).numpy()\n",
    "    m = (raw01 > 0.5).astype(np.uint8)\n",
    "    body_mask, lab, sizes, Lmax = largest_component_mask(m)\n",
    "    if Lmax == 0: return False\n",
    "    x0,y0,x1,y1 = bbox_of_label(lab, Lmax)\n",
    "    bw, bh = x1-x0+1, y1-y0+1\n",
    "    if bw >= bh:\n",
    "        band_w = max(1, int(round(bw*HEAD_BAND_FRAC)))\n",
    "        head_band = np.zeros_like(m, dtype=np.uint8); head_band[y0:y1+1, x0:x0+band_w] = 1\n",
    "        alt_band  = np.zeros_like(m, dtype=np.uint8); alt_band[y0:y1+1, x1-band_w+1:x1+1] = 1\n",
    "    else:\n",
    "        band_h = max(1, int(round(bh*HEAD_BAND_FRAC)))\n",
    "        head_band = np.zeros_like(m, dtype=np.uint8); head_band[y0:y0+band_h, x0:x1+1] = 1\n",
    "        alt_band  = np.zeros_like(m, dtype=np.uint8); alt_band[y1-band_h+1:y1+1, x0:x1+1] = 1\n",
    "    for L in range(1, int(max(lab.max(), 0))+1):\n",
    "        if L == Lmax: continue\n",
    "        sz = sizes[L-1]\n",
    "        if sz < AREA_MIN or sz > AREA_MAX: continue\n",
    "        bx0,by0,bx1,by1 = bbox_of_label(lab, L)\n",
    "        cx, cy = (bx0+bx1)/2, (by0+by1)/2\n",
    "        if head_band[int(round(cy)), int(round(cx))] or alt_band[int(round(cy)), int(round(cx))]:\n",
    "            return True\n",
    "    return False\n"
   ]
  },
  {
   "cell_type": "code",
   "execution_count": 4,
   "id": "f0da9082",
   "metadata": {},
   "outputs": [
    {
     "name": "stdout",
     "output_type": "stream",
     "text": [
      "No qualifying 'no-face → has-face' ant pairs found in the selected split. Try another split.\n"
     ]
    }
   ],
   "source": [
    "\n",
    "# Show up to 5 no-face -> has-face pairs\n",
    "shown = 0\n",
    "for (f, raw, dis, d, g, raw_m, dis_m, dm) in pairs:\n",
    "    if not has_face(raw) and has_face(raw_m):\n",
    "        r0 = raw.squeeze(0).numpy().astype(float)\n",
    "        r1 = raw_m.squeeze(0).numpy().astype(float)\n",
    "        d0 = dis.squeeze(0).numpy().astype(float)\n",
    "        d1 = dis_m.squeeze(0).numpy().astype(float)\n",
    "        diff = np.abs(r1 - r0)\n",
    "\n",
    "        import matplotlib.pyplot as plt\n",
    "        fig, axes = plt.subplots(1, 5, figsize=(5*3.2, 3.0))\n",
    "        for ax in axes: ax.axis('off')\n",
    "        axes[0].imshow(r0, cmap='gray', vmin=0, vmax=1); axes[0].set_title(f\"Original RAW\\n{f.name}\")\n",
    "        axes[1].imshow(d0, cmap='gray', vmin=0, vmax=1); axes[1].set_title(\"Original DIST\")\n",
    "        axes[2].imshow(r1, cmap='gray', vmin=0, vmax=1); axes[2].set_title(\"CP RAW\")\n",
    "        axes[3].imshow(d1, cmap='gray', vmin=0, vmax=1); axes[3].set_title(\"CP DIST\")\n",
    "        axes[4].imshow(diff, cmap='gray', vmin=0, vmax=1); axes[4].set_title(\"|ΔRAW|\")\n",
    "        plt.tight_layout(); plt.show()\n",
    "\n",
    "        shown += 1\n",
    "        if shown >= 5: break\n",
    "\n",
    "if shown == 0:\n",
    "    print(\"No qualifying 'no-face → has-face' ant pairs found in the selected split. Try another split.\")\n"
   ]
  }
 ],
 "metadata": {
  "kernelspec": {
   "display_name": "Python 3",
   "language": "python",
   "name": "python3"
  },
  "language_info": {
   "codemirror_mode": {
    "name": "ipython",
    "version": 3
   },
   "file_extension": ".py",
   "mimetype": "text/x-python",
   "name": "python",
   "nbconvert_exporter": "python",
   "pygments_lexer": "ipython3",
   "version": "3.11.9"
  }
 },
 "nbformat": 4,
 "nbformat_minor": 5
}
